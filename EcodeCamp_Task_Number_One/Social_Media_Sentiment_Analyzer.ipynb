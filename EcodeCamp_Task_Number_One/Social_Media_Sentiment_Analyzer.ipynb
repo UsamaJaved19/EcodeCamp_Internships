{
  "cells": [
    {
      "cell_type": "markdown",
      "metadata": {
        "id": "TJF2DWMDdv_c"
      },
      "source": [
        "## Installing Essential Libraries"
      ]
    },
    {
      "cell_type": "code",
      "execution_count": null,
      "metadata": {
        "colab": {
          "base_uri": "https://localhost:8080/"
        },
        "id": "p9sM4wQtdJWY",
        "outputId": "87cd4709-acd0-4c6e-9f56-63c257142f80"
      },
      "outputs": [
        {
          "ename": "",
          "evalue": "",
          "output_type": "error",
          "traceback": [
            "\u001b[1;31mRunning cells with 'env (Python 3.12.5)' requires the ipykernel package.\n",
            "\u001b[1;31mRun the following command to install 'ipykernel' into the Python environment. \n",
            "\u001b[1;31mCommand: 'conda install -p d:\\usama javed\\EcodeCamp Internship\\Tasks\\Task#1_Social_Media_Setiment_Analyzer\\env ipykernel --update-deps --force-reinstall'"
          ]
        }
      ],
      "source": [
        "\n",
        "! pip install kaggle\n",
        "! pip install wordcloud"
      ]
    },
    {
      "cell_type": "markdown",
      "metadata": {
        "id": "_OsJ0vhoiqO8"
      },
      "source": [
        "## Libraries"
      ]
    },
    {
      "cell_type": "code",
      "execution_count": 91,
      "metadata": {
        "id": "9M1blB2-ihYi"
      },
      "outputs": [],
      "source": [
        "from zipfile import ZipFile\n",
        "import numpy as np\n",
        "import pandas as pd\n",
        "import matplotlib.pyplot as plt\n",
        "from wordcloud import WordCloud\n",
        "import re\n",
        "import nltk\n",
        "from nltk.corpus import stopwords\n",
        "from nltk.stem.porter import PorterStemmer\n",
        "from sklearn.feature_extraction.text import TfidfVectorizer\n",
        "from sklearn.model_selection import train_test_split\n",
        "from sklearn.linear_model import LogisticRegression\n",
        "from sklearn.metrics import accuracy_score ,classification_report\n",
        "import pickle"
      ]
    },
    {
      "cell_type": "code",
      "execution_count": null,
      "metadata": {
        "colab": {
          "base_uri": "https://localhost:8080/"
        },
        "id": "yIXi4UwGd8g6",
        "outputId": "68d6aff7-25ab-4093-ef45-3088c21ac62e"
      },
      "outputs": [],
      "source": [
        "! mkdir -p ~/.kaggle\n",
        "! cp kaggle.json ~/.kaggle/\n",
        "! chmod 600 ~/.kaggle/kaggle.json"
      ]
    },
    {
      "cell_type": "markdown",
      "metadata": {
        "id": "cv69W4Mzf_qP"
      },
      "source": [
        "## Twitter Sentiment Dataset"
      ]
    },
    {
      "cell_type": "code",
      "execution_count": null,
      "metadata": {
        "colab": {
          "base_uri": "https://localhost:8080/"
        },
        "id": "rBJLw2Eqe0jl",
        "outputId": "fa98b804-3316-421a-bba7-167a187e75b8"
      },
      "outputs": [],
      "source": [
        "! kaggle datasets download -d kazanova/sentiment140"
      ]
    },
    {
      "cell_type": "code",
      "execution_count": 5,
      "metadata": {
        "id": "uLNwvUf9h1Zj"
      },
      "outputs": [],
      "source": [
        "#unzip dataset\n",
        "dataset_path='/content/sentiment140.zip'\n",
        "with ZipFile(dataset_path,'r') as z:\n",
        "  z.extractall()"
      ]
    },
    {
      "cell_type": "code",
      "execution_count": null,
      "metadata": {
        "colab": {
          "base_uri": "https://localhost:8080/"
        },
        "id": "5nqJtMaIjDr8",
        "outputId": "6cfc0325-f4b1-4b89-a5d7-0561caa050e2"
      },
      "outputs": [],
      "source": [
        "nltk.download('stopwords')"
      ]
    },
    {
      "cell_type": "code",
      "execution_count": null,
      "metadata": {
        "colab": {
          "base_uri": "https://localhost:8080/"
        },
        "id": "puuZCHwFmWPB",
        "outputId": "8bd4754b-8add-42c0-dc0a-9628adbb01ca"
      },
      "outputs": [],
      "source": [
        "#printing stopwords\n",
        "# These are the words which donot have any important meaning in data\n",
        "words = stopwords.words('english')\n",
        "print( words)"
      ]
    },
    {
      "cell_type": "markdown",
      "metadata": {
        "id": "p6-bytPJoKQO"
      },
      "source": [
        "## Data Processing"
      ]
    },
    {
      "cell_type": "code",
      "execution_count": 8,
      "metadata": {
        "id": "GtOC87z6nggq"
      },
      "outputs": [],
      "source": [
        "tweets_df = pd.read_csv('/content/training.1600000.processed.noemoticon.csv',encoding='ISO-8859-1')"
      ]
    },
    {
      "cell_type": "code",
      "execution_count": null,
      "metadata": {
        "colab": {
          "base_uri": "https://localhost:8080/",
          "height": 310
        },
        "id": "_0Mnz9SHodp9",
        "outputId": "38d1ffe1-fb0c-48e0-9378-f267d20dd526"
      },
      "outputs": [],
      "source": [
        "tweets_df.head()"
      ]
    },
    {
      "cell_type": "code",
      "execution_count": null,
      "metadata": {
        "colab": {
          "base_uri": "https://localhost:8080/"
        },
        "id": "yS8tlO7Ao5KX",
        "outputId": "4f137d68-c50f-452e-a6fa-83dc05860725"
      },
      "outputs": [],
      "source": [
        " # no of rows and columns\n",
        "tweets_df.shape"
      ]
    },
    {
      "cell_type": "code",
      "execution_count": 11,
      "metadata": {
        "id": "CsVncaYHo9iX"
      },
      "outputs": [],
      "source": [
        "# Ading columns to dataframe\n",
        "columns =['target','ids','date','flag','user','text']\n",
        "tweets_df = pd.read_csv('/content/training.1600000.processed.noemoticon.csv',names = columns ,encoding='ISO-8859-1')"
      ]
    },
    {
      "cell_type": "code",
      "execution_count": null,
      "metadata": {
        "colab": {
          "base_uri": "https://localhost:8080/",
          "height": 206
        },
        "id": "d5RZKufLsya7",
        "outputId": "bbd8bae3-b9dc-4560-ef18-c2a8fd89afcc"
      },
      "outputs": [],
      "source": [
        "tweets_df.head()"
      ]
    },
    {
      "cell_type": "code",
      "execution_count": null,
      "metadata": {
        "colab": {
          "base_uri": "https://localhost:8080/",
          "height": 272
        },
        "id": "fX27H8r0tKfO",
        "outputId": "a6b6dc02-528d-45aa-a460-bd89d3e392c7"
      },
      "outputs": [],
      "source": [
        "# Analyzing missing valuues\n",
        "tweets_df.isnull().sum()"
      ]
    },
    {
      "cell_type": "code",
      "execution_count": null,
      "metadata": {
        "colab": {
          "base_uri": "https://localhost:8080/",
          "height": 178
        },
        "id": "EFdGOcEotsOg",
        "outputId": "7ca22aee-63a3-4cf8-add6-681c2962bccd"
      },
      "outputs": [],
      "source": [
        "# Didtribution of target column\n",
        "tweets_df['target'].value_counts()\n",
        "\n"
      ]
    },
    {
      "cell_type": "markdown",
      "metadata": {
        "id": "97eZBcHXZq6A"
      },
      "source": [
        "## Converting labels into numbers\n",
        "0 means negative\n",
        "1 means positive"
      ]
    },
    {
      "cell_type": "code",
      "execution_count": 15,
      "metadata": {
        "id": "ceJJkgL2ZibZ"
      },
      "outputs": [],
      "source": [
        "tweets_df2 = tweets_df.replace({'target':{4:1}})"
      ]
    },
    {
      "cell_type": "code",
      "execution_count": null,
      "metadata": {
        "colab": {
          "base_uri": "https://localhost:8080/",
          "height": 178
        },
        "id": "LKG04vwRaoBm",
        "outputId": "0b2e9168-95e8-498c-b503-ae5ef21c3812"
      },
      "outputs": [],
      "source": [
        "tweets_df2['target'].value_counts()"
      ]
    },
    {
      "cell_type": "markdown",
      "metadata": {
        "id": "_Ad2_I37cDe4"
      },
      "source": [
        "## Stemming Process\n",
        "It reduce  a word to its root word"
      ]
    },
    {
      "cell_type": "code",
      "execution_count": 17,
      "metadata": {
        "id": "Ervlx38TfZ_R"
      },
      "outputs": [],
      "source": [
        "porter_stemmer = PorterStemmer()"
      ]
    },
    {
      "cell_type": "code",
      "execution_count": 18,
      "metadata": {
        "id": "-ZwkFG0VausB"
      },
      "outputs": [],
      "source": [
        "def stemming(data):\n",
        "  stemmed_data = re.sub('[^a-zA-Z]',' ' , data)\n",
        "  stemmed_data = stemmed_data.lower()\n",
        "  stemmed_data = stemmed_data.split()\n",
        "  english_stopwords = stopwords.words('english')\n",
        "  stemmed_data = [porter_stemmer.stem(word) for word in stemmed_data if word not in english_stopwords]\n",
        "  stemmed_data = ' '.join(stemmed_data)\n",
        "  return stemmed_data"
      ]
    },
    {
      "cell_type": "code",
      "execution_count": null,
      "metadata": {
        "colab": {
          "base_uri": "https://localhost:8080/",
          "height": 293
        },
        "id": "aftG8E0chPq7",
        "outputId": "0474a78c-e57a-4112-9294-cebb7add8ff4"
      },
      "outputs": [],
      "source": [
        "tweets_df2['stemmed_tweets'] = tweets_df2['text'].apply(stemming)\n",
        "tweets_df2.head()"
      ]
    },
    {
      "cell_type": "code",
      "execution_count": 96,
      "metadata": {
        "id": "1sXzTosF_zxW"
      },
      "outputs": [],
      "source": [
        "# Seperating data and label\n",
        "x = tweets_df2['stemmed_tweets'].values\n",
        "y = tweets_df2['target'].values"
      ]
    },
    {
      "cell_type": "code",
      "execution_count": null,
      "metadata": {
        "colab": {
          "base_uri": "https://localhost:8080/"
        },
        "id": "ZkailwC1A2ry",
        "outputId": "a37ef1e1-736e-4d0b-a062-bb1ecda68dc2"
      },
      "outputs": [],
      "source": [
        "print(x)"
      ]
    },
    {
      "cell_type": "code",
      "execution_count": null,
      "metadata": {
        "colab": {
          "base_uri": "https://localhost:8080/"
        },
        "id": "JB8OUmGKA4EV",
        "outputId": "2cebc9df-7a50-4942-cc42-f14476c9a310"
      },
      "outputs": [],
      "source": [
        "print(y)"
      ]
    },
    {
      "cell_type": "code",
      "execution_count": 98,
      "metadata": {
        "id": "MLt4X5X8QLrj"
      },
      "outputs": [],
      "source": [
        "# for genearting word cloud we need to convert list into single string\n",
        "text = ' '.join(x)"
      ]
    },
    {
      "cell_type": "markdown",
      "metadata": {
        "id": "utGSNer9ROn_"
      },
      "source": [
        "## Word Cloud"
      ]
    },
    {
      "cell_type": "code",
      "execution_count": 100,
      "metadata": {
        "id": "v1UKk_qoOya3"
      },
      "outputs": [],
      "source": [
        "wordcloud = WordCloud(width=800,height=400,background_color='white',colormap='plasma',max_words=100).generate(text)"
      ]
    },
    {
      "cell_type": "code",
      "execution_count": null,
      "metadata": {
        "colab": {
          "base_uri": "https://localhost:8080/",
          "height": 422
        },
        "id": "00KGWSnkQnej",
        "outputId": "c76aa5ad-e2bc-4677-c4db-74ef44dff669"
      },
      "outputs": [],
      "source": [
        "plt.figure(figsize=(10,5))\n",
        "plt.imshow(wordcloud)\n",
        "plt.axis('off')\n",
        "plt.show()"
      ]
    },
    {
      "cell_type": "markdown",
      "metadata": {
        "id": "qf8-bwNqBROH"
      },
      "source": [
        "## Splitting data into training and test data"
      ]
    },
    {
      "cell_type": "code",
      "execution_count": 38,
      "metadata": {
        "id": "C0jMP_b1A7RA"
      },
      "outputs": [],
      "source": [
        "x_train,x_test,y_train,y_test = train_test_split(x,y,test_size=0.2,stratify=y,random_state=2)"
      ]
    },
    {
      "cell_type": "code",
      "execution_count": null,
      "metadata": {
        "colab": {
          "base_uri": "https://localhost:8080/"
        },
        "id": "b5CE5zIBCAxW",
        "outputId": "7ce5450a-d466-45c5-ddb0-f7cbec26f761"
      },
      "outputs": [],
      "source": [
        "print(x_train.shape,x_test.shape,y_train.shape,y_test.shape)"
      ]
    },
    {
      "cell_type": "code",
      "execution_count": null,
      "metadata": {
        "colab": {
          "base_uri": "https://localhost:8080/"
        },
        "id": "P5H7g_5rFJfh",
        "outputId": "79e00812-474a-4c22-b421-05194d7dc060"
      },
      "outputs": [],
      "source": [
        "print(x_train)"
      ]
    },
    {
      "cell_type": "markdown",
      "metadata": {
        "id": "ACOo_PjMDPCa"
      },
      "source": [
        "## Converting textual data into numerical data"
      ]
    },
    {
      "cell_type": "code",
      "execution_count": 40,
      "metadata": {
        "id": "CyM-o3x7DV5y"
      },
      "outputs": [],
      "source": [
        "vector  = TfidfVectorizer()\n",
        "x_train = vector.fit_transform(x_train)\n",
        "x_test = vector.transform(x_test)"
      ]
    },
    {
      "cell_type": "code",
      "execution_count": null,
      "metadata": {
        "colab": {
          "base_uri": "https://localhost:8080/"
        },
        "id": "HEqa1NKQoUKz",
        "outputId": "99b64f29-1750-4a15-ab61-7f2934a2c76e"
      },
      "outputs": [],
      "source": [
        "print(x_train)"
      ]
    },
    {
      "cell_type": "code",
      "execution_count": null,
      "metadata": {
        "colab": {
          "base_uri": "https://localhost:8080/"
        },
        "id": "pzIvm0P-tqRt",
        "outputId": "83fbde18-52f9-4765-f044-05f9aabd2eb7"
      },
      "outputs": [],
      "source": [
        "x_train.shape,x_test.shape"
      ]
    },
    {
      "cell_type": "markdown",
      "metadata": {
        "id": "cenmHjCiprvw"
      },
      "source": [
        "## Training model\n"
      ]
    },
    {
      "cell_type": "code",
      "execution_count": 49,
      "metadata": {
        "id": "mTlOg11goswy"
      },
      "outputs": [],
      "source": [
        "#Logistic regression\n",
        "iterations = 2000\n",
        "model = LogisticRegression(max_iter = iterations)"
      ]
    },
    {
      "cell_type": "code",
      "execution_count": null,
      "metadata": {
        "colab": {
          "base_uri": "https://localhost:8080/",
          "height": 80
        },
        "id": "p65uf2-PqOcV",
        "outputId": "d5acf036-9fa2-4208-ec6d-d8e0c8de7683"
      },
      "outputs": [],
      "source": [
        "model.fit(x_train,y_train)"
      ]
    },
    {
      "cell_type": "markdown",
      "metadata": {
        "id": "jneeB65iqfGi"
      },
      "source": [
        "## Model Evaluation"
      ]
    },
    {
      "cell_type": "code",
      "execution_count": 51,
      "metadata": {
        "id": "YXGl0EL6qjEF"
      },
      "outputs": [],
      "source": [
        "# Accuracy score on training data\n",
        "training_predictions = model.predict(x_train)\n",
        "training_accuracy = accuracy_score(y_train,\n",
        "training_predictions)"
      ]
    },
    {
      "cell_type": "code",
      "execution_count": null,
      "metadata": {
        "colab": {
          "base_uri": "https://localhost:8080/"
        },
        "id": "s56HvWwGrZuT",
        "outputId": "2af96019-1de2-4ea8-911a-d756d5de7162"
      },
      "outputs": [],
      "source": [
        "print(f'training accuracy : {training_accuracy*100}')"
      ]
    },
    {
      "cell_type": "code",
      "execution_count": 53,
      "metadata": {
        "id": "z_4lb9KRsQL1"
      },
      "outputs": [],
      "source": [
        "# Accuracy Score on test Data\n",
        "test_predictions = model.predict(x_test)\n",
        "test_accuracy = accuracy_score(y_test,test_predictions)"
      ]
    },
    {
      "cell_type": "code",
      "execution_count": null,
      "metadata": {
        "colab": {
          "base_uri": "https://localhost:8080/"
        },
        "id": "xWZjcNYc0IeR",
        "outputId": "5fd870e3-0f54-4433-f28e-4662627627c8"
      },
      "outputs": [],
      "source": [
        "print(f'Test Accuracy : {test_accuracy*100}')"
      ]
    },
    {
      "cell_type": "code",
      "execution_count": 57,
      "metadata": {
        "id": "fJfXoKvZ2VK6"
      },
      "outputs": [],
      "source": [
        "# Classification Report\n",
        "report = classification_report(y_test,test_predictions)"
      ]
    },
    {
      "cell_type": "code",
      "execution_count": null,
      "metadata": {
        "colab": {
          "base_uri": "https://localhost:8080/"
        },
        "id": "O5ApJ-Mi2pAX",
        "outputId": "b26e3145-8562-4cd6-85cb-39f62fd4bd97"
      },
      "outputs": [],
      "source": [
        "print(report)"
      ]
    },
    {
      "cell_type": "markdown",
      "metadata": {
        "id": "j7xqsxUY3qBn"
      },
      "source": [
        "## Saving Trained Model\n"
      ]
    },
    {
      "cell_type": "code",
      "execution_count": 60,
      "metadata": {
        "id": "bNuWdRT53xOf"
      },
      "outputs": [],
      "source": [
        "name = 'model.pkl'\n",
        "pickle.dump(model,open(name,'wb'))"
      ]
    },
    {
      "cell_type": "markdown",
      "metadata": {
        "id": "sJMsTguz6hxn"
      },
      "source": [
        "## Loading model for Future Predictions"
      ]
    },
    {
      "cell_type": "code",
      "execution_count": 61,
      "metadata": {
        "id": "GpiWYnoJ6qK_"
      },
      "outputs": [],
      "source": [
        "load_model = pickle.load(open('/content/model.pkl','rb'))"
      ]
    },
    {
      "cell_type": "code",
      "execution_count": 86,
      "metadata": {
        "id": "16OOajjx7F9E"
      },
      "outputs": [],
      "source": [
        "  #creating new sample of data\n",
        "x = x_test[:5]\n"
      ]
    },
    {
      "cell_type": "code",
      "execution_count": 87,
      "metadata": {
        "id": "i_Uo0v_98LwA"
      },
      "outputs": [],
      "source": [
        "predictions = model.predict(x)"
      ]
    },
    {
      "cell_type": "code",
      "execution_count": null,
      "metadata": {
        "colab": {
          "base_uri": "https://localhost:8080/"
        },
        "id": "hzE33UCR9Wgj",
        "outputId": "fbfe8d8f-40a0-4127-da73-ad4ee3cdb7c0"
      },
      "outputs": [],
      "source": [
        "a = len(predictions)\n",
        "a"
      ]
    },
    {
      "cell_type": "code",
      "execution_count": null,
      "metadata": {
        "colab": {
          "base_uri": "https://localhost:8080/"
        },
        "id": "X_xkWyaa8vJW",
        "outputId": "c08cc545-6c79-43c6-b8c1-b0d507dfd082"
      },
      "outputs": [],
      "source": [
        "for i in range(a):\n",
        "  if predictions[i] == 0:\n",
        "    print('Negative Tweet')\n",
        "  else:\n",
        "    print('Positive Tweet')"
      ]
    },
    {
      "cell_type": "code",
      "execution_count": null,
      "metadata": {},
      "outputs": [],
      "source": []
    }
  ],
  "metadata": {
    "colab": {
      "provenance": []
    },
    "kernelspec": {
      "display_name": "Python 3",
      "name": "python3"
    },
    "language_info": {
      "name": "python",
      "version": "3.12.5"
    }
  },
  "nbformat": 4,
  "nbformat_minor": 0
}
